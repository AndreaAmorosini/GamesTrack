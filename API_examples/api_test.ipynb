{
 "cells": [
  {
   "cell_type": "markdown",
   "id": "fef0d8ab",
   "metadata": {},
   "source": [
    "PSN"
   ]
  },
  {
   "cell_type": "code",
   "execution_count": 1,
   "id": "6b8c7119",
   "metadata": {},
   "outputs": [
    {
     "name": "stdout",
     "output_type": "stream",
     "text": [
      "account_Id : 3952657318490276191, online_id : AterMoros\n",
      "totTrophies : 7802\n"
     ]
    },
    {
     "name": "stderr",
     "output_type": "stream",
     "text": [
      "648it [00:06, 101.04it/s]"
     ]
    },
    {
     "name": "stdout",
     "output_type": "stream",
     "text": [
      "Game Count : 648\n",
      "    np_communication_id             title_name totTrophy earnedTrophy  \\\n",
      "0          NPWR30769_00          SILENT HILL 2        44            4   \n",
      "1          NPWR34665_00               TEKKEN 8        47            4   \n",
      "2          NPWR15473_00  Stick Fight: The Game        28            7   \n",
      "3          NPWR20652_00           Helldivers 2        39           12   \n",
      "4          NPWR22032_00          DOOM Eternal®        51           27   \n",
      "..                  ...                    ...       ...          ...   \n",
      "643        NPWR00518_00      The Godfather™ II        42           35   \n",
      "644        NPWR00650_00             L.A. Noire        61           12   \n",
      "645        NPWR01768_00      SONIC GENERATIONS        50           26   \n",
      "646        NPWR01500_00          DCUO Trophies       123            0   \n",
      "647        NPWR00464_00            Dead Space™        49            0   \n",
      "\n",
      "    percTrophy  \n",
      "0           5%  \n",
      "1           5%  \n",
      "2          12%  \n",
      "3          18%  \n",
      "4          54%  \n",
      "..         ...  \n",
      "643        72%  \n",
      "644        10%  \n",
      "645        39%  \n",
      "646         0%  \n",
      "647         0%  \n",
      "\n",
      "[648 rows x 5 columns]\n"
     ]
    },
    {
     "name": "stderr",
     "output_type": "stream",
     "text": [
      "\n"
     ]
    }
   ],
   "source": [
    "from psnawp_api import PSNAWP\n",
    "from tqdm import tqdm\n",
    "import pandas as pd\n",
    "import numpy as np\n",
    "\n",
    "# Get your npsso from https://psnprofiles.com/psnawp\n",
    "npsso = \"lu6TxZVE8LwVB7DfEh4DBzDlHd80DsubdpYpr4LV1eACfwo35RFiZTyOeA2MxPhO\"\n",
    "# Create a PSNAWP object\n",
    "psn = PSNAWP(npsso)\n",
    "\n",
    "# Profile of npsso owner\n",
    "client = psn.me()\n",
    "print(\"account_Id : \" + client.account_id + \", online_id : \" + client.online_id)\n",
    "print(\"totTrophies : \" + str(client.trophy_summary().earned_trophies.bronze + client.trophy_summary().earned_trophies.silver + client.trophy_summary().earned_trophies.gold + client.trophy_summary().earned_trophies.platinum))\n",
    "\n",
    "listOfList = []\n",
    "\n",
    "\n",
    "\n",
    "#gameCount = 0\n",
    "# for t in client.title_stats():\n",
    "#    print(\"name : \" + t.name + \" , title_id : \" + str(t.title_id) + \" , play_count : \" + str(t.play_count) + \" ,total_items_count : \" + str(t.total_items_count))\n",
    "#    gameCount += 1\n",
    "\n",
    "trophyCount = 0\n",
    "for tr in tqdm(client.trophy_titles()):\n",
    "    listGame = [tr.np_communication_id, tr.title_name,\n",
    "                (tr.defined_trophies.bronze + tr.defined_trophies.silver + tr.defined_trophies.gold + tr.defined_trophies.platinum),\n",
    "                (tr.earned_trophies.bronze + tr.earned_trophies.silver + tr.earned_trophies.gold + tr.earned_trophies.platinum),\n",
    "                (str(tr.progress) + \"%\")]\n",
    "    listOfList.append(listGame)\n",
    "    trophyCount += 1\n",
    "\n",
    "arr = np.array(listOfList)\n",
    "df = pd.DataFrame(arr, columns=[\"np_communication_id\", \"title_name\", \"totTrophy\", \"earnedTrophy\", \"percTrophy\"])\n",
    "#print(\"Game Count : \" + str(gameCount))\n",
    "print(\"Game Count : \" + str(trophyCount))\n",
    "print(df)\n",
    "\n"
   ]
  },
  {
   "cell_type": "markdown",
   "id": "a7d104f3",
   "metadata": {},
   "source": [
    "Steam"
   ]
  },
  {
   "cell_type": "code",
   "execution_count": 4,
   "id": "c47610af",
   "metadata": {},
   "outputs": [
    {
     "name": "stdout",
     "output_type": "stream",
     "text": [
      "STEAMID: 76561198074617013 NAME : AterMors\n",
      "Game Count : 286\n",
      "Recupero Dati : \n"
     ]
    },
    {
     "name": "stderr",
     "output_type": "stream",
     "text": [
      "100%|██████████| 286/286 [03:39<00:00,  1.30it/s]\n"
     ]
    },
    {
     "name": "stdout",
     "output_type": "stream",
     "text": [
      "      appId                                    Name Playtime TotAchievement  \\\n",
      "0       220                             Half-Life 2      266              0   \n",
      "1       320                 Half-Life 2: Deathmatch        0              0   \n",
      "2       360            Half-Life Deathmatch: Source        0              0   \n",
      "3      4000                             Garry's Mod        5              0   \n",
      "4      6910       Deus Ex: Game of the Year Edition       22              0   \n",
      "..      ...                                     ...      ...            ...   \n",
      "281  383180  Dead Island Riptide Definitive Edition        0              0   \n",
      "282  235900                            RPG Maker XP        0              0   \n",
      "283     440                         Team Fortress 2      176              0   \n",
      "284     570                                  Dota 2      117              0   \n",
      "285    1840                        Source Filmmaker       20              0   \n",
      "\n",
      "    EarnedAchievement Achievement%  \n",
      "0                   0           0%  \n",
      "1                   0           0%  \n",
      "2                   0           0%  \n",
      "3                   0           0%  \n",
      "4                   0           0%  \n",
      "..                ...          ...  \n",
      "281                 0           0%  \n",
      "282                 0           0%  \n",
      "283                 0           0%  \n",
      "284                 0           0%  \n",
      "285                 0           0%  \n",
      "\n",
      "[286 rows x 6 columns]\n"
     ]
    }
   ],
   "source": [
    "from steam_web_api import Steam\n",
    "import json\n",
    "import numpy as np\n",
    "import pandas as pd\n",
    "from tqdm import tqdm\n",
    "import os\n",
    "from dotenv import load_dotenv\n",
    "\n",
    "load_dotenv()\n",
    "\n",
    "KEY = os.getenv(\"STEAM_API_KEY\")\n",
    "steam = Steam(KEY)\n",
    "\n",
    "user = steam.users.get_user_details(\"76561198074617013\")\n",
    "# print(user)\n",
    "# print(user[\"player\"])\n",
    "# print(\"PLAYER DETAILS\")\n",
    "# for i in user[\"player\"]:\n",
    "# print(str(i) + \" : \" + str(user[\"player\"][i]))\n",
    "\n",
    "print(\n",
    "    \"STEAMID: \"\n",
    "    + str(user[\"player\"][\"steamid\"])\n",
    "    + \" NAME : \"\n",
    "    + str(user[\"player\"][\"personaname\"])\n",
    ")\n",
    "\n",
    "\n",
    "# friends = steam.users.get_user_friends_list(\"76561198074617013\")\n",
    "# print(friends)\n",
    "\n",
    "steamId = str(user[\"player\"][\"steamid\"])  # 76561198074617013\n",
    "\n",
    "listOfList = []\n",
    "\n",
    "\n",
    "# GAMES\n",
    "games = steam.users.get_owned_games(steamId)\n",
    "print(\"Game Count : \" + str(games.get(\"game_count\")))\n",
    "print(\"Recupero Dati : \")\n",
    "for i in tqdm(games.get(\"games\")):\n",
    "    listGame = [i.get(\"appid\"), i.get(\"name\"), i.get(\"playtime_forever\")]\n",
    "    # print(\"appId: \" + str(i.get(\"appid\")) + \" / Name: \" + str(i.get(\"name\")) + \" / Playtime: \" + str(i.get(\"playtime_forever\")))\n",
    "    try:\n",
    "        if i.get(\"playtime_forever\") > 0:\n",
    "            gameS = steam.apps.get_user_stats(steamId, i.get(\"appid\"))\n",
    "            g = steam.apps.get_app_details(i.get(\"appid\"))\n",
    "            totAchievement = int(\n",
    "                g.split(\"achievements\")[1].split(\"total\")[1].split(\",\")[0].split(\" \")[1]\n",
    "            )\n",
    "            earnedAchievement = len(gameS.get(\"playerstats\").get(\"achievements\"))\n",
    "            # print(\"Tot Achievement : \" + str(totAchievement))\n",
    "            listGame.append(str(totAchievement))\n",
    "            # print(\"Earned Achievement : \" + str(earnedAchievement))\n",
    "            listGame.append(str(earnedAchievement))\n",
    "            if totAchievement > 0:\n",
    "                percAchievement = (earnedAchievement / totAchievement) * 100\n",
    "                # print(\"Achievement % : \" + str(round(percAchievement, 2)) + \"%\")\n",
    "                listGame.append(str(round(percAchievement, 2)) + \"%\")\n",
    "            else:\n",
    "                # print(\"Achievement % : 0 %\")\n",
    "                listGame.append(str(0) + \"%\")\n",
    "        else:\n",
    "            # print(\"No Achievement Data\")\n",
    "            listGame.append(str(0))\n",
    "            listGame.append(str(0))\n",
    "            listGame.append(str(0) + \"%\")\n",
    "    except:\n",
    "        # print(\"No Achievement Data\")\n",
    "        listGame.append(str(0))\n",
    "        listGame.append(str(0))\n",
    "        listGame.append(str(0) + \"%\")\n",
    "    listOfList.append(listGame)\n",
    "\n",
    "# TODO : organizzare dati in dataFrame\n",
    "\n",
    "arr = np.array(listOfList)\n",
    "df = pd.DataFrame(\n",
    "    arr,\n",
    "    columns=[\n",
    "        \"appId\",\n",
    "        \"Name\",\n",
    "        \"Playtime\",\n",
    "        \"TotAchievement\",\n",
    "        \"EarnedAchievement\",\n",
    "        \"Achievement%\",\n",
    "    ],\n",
    ")\n",
    "print(df)\n",
    "\n",
    "\n",
    "searchGame = steam.apps.search_games(\"Dota 2\")\n",
    "# print(searchGame)\n",
    "\n",
    "gameAchievement = steam.apps.get_user_achievements(\"76561198074617013\", 220)\n",
    "# print(gameAchievement)\n",
    "\n",
    "gameStats = steam.apps.get_user_stats(\"76561198074617013\", 220)\n",
    "# print(gameStats)\n",
    "\n",
    "gameDetail = steam.apps.get_app_details(220)\n",
    "# print(gameDetail)\n"
   ]
  },
  {
   "cell_type": "markdown",
   "id": "921d1b86",
   "metadata": {},
   "source": [
    "GameDB"
   ]
  },
  {
   "cell_type": "code",
   "execution_count": null,
   "id": "4d000167",
   "metadata": {},
   "outputs": [],
   "source": [
    "import rawgpy\n",
    "\n",
    "rawg = rawgpy.RAWG(\"\")\n"
   ]
  }
 ],
 "metadata": {
  "kernelspec": {
   "display_name": "gametrack",
   "language": "python",
   "name": "python3"
  },
  "language_info": {
   "codemirror_mode": {
    "name": "ipython",
    "version": 3
   },
   "file_extension": ".py",
   "mimetype": "text/x-python",
   "name": "python",
   "nbconvert_exporter": "python",
   "pygments_lexer": "ipython3",
   "version": "3.10.17"
  }
 },
 "nbformat": 4,
 "nbformat_minor": 5
}
